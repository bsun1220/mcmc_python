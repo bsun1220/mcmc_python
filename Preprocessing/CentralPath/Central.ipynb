{
 "cells": [
  {
   "cell_type": "code",
   "execution_count": 3,
   "id": "155aee03-690a-4a78-84f5-a225160fc9d4",
   "metadata": {},
   "outputs": [],
   "source": [
    "import numpy as np\n",
    "import matplotlib.pyplot as plt\n",
    "from scipy.linalg import sqrtm\n",
    "from scipy.optimize import minimize, LinearConstraint, linprog\n",
    "import pandas as pd\n",
    "import sympy"
   ]
  },
  {
   "cell_type": "code",
   "execution_count": 4,
   "id": "2ee69f71-6afb-4709-92a9-8c6cca7be0dc",
   "metadata": {},
   "outputs": [],
   "source": [
    "#Unit Square\n",
    "A = np.matrix([[1, 0], [-1, 0],[0, 1], [0, -1]])\n",
    "b = np.matrix([[1],[0],[1],[0]])\n",
    "x = np.matrix([[0.5],[0.5]])"
   ]
  },
  {
   "cell_type": "code",
   "execution_count": 9,
   "id": "5040335b-fdfc-4068-9973-7747c5b293a1",
   "metadata": {},
   "outputs": [],
   "source": [
    "#Unit Diamond\n",
    "A = np.matrix([[1, 1], [-1, 1],[1, -1], [-1, -1]])\n",
    "b = np.matrix([[1],[1],[1], [1]])"
   ]
  },
  {
   "cell_type": "code",
   "execution_count": 12,
   "id": "f39a5efc-4f34-47ff-8c47-b20bd441b059",
   "metadata": {},
   "outputs": [],
   "source": [
    "#Triangle \n",
    "A = np.matrix([[-1, 0], [0, -1],[1, 1]])\n",
    "b = np.matrix([[0],[0],[1]])"
   ]
  },
  {
   "cell_type": "code",
   "execution_count": 15,
   "id": "a53d9bab-9f6e-4258-8506-79db2251f8d3",
   "metadata": {},
   "outputs": [],
   "source": [
    "#Unit Cube\n",
    "A = np.array([[1, 0, 0],[-1, 0, 0],[0, 1, 0],[0, -1, 0],[0, 0, 1],[0, 0, -1]])\n",
    "b = np.array([[1],[0],[1],[0],[1],[0]])"
   ]
  },
  {
   "cell_type": "code",
   "execution_count": 10,
   "id": "4d1df694-5997-4079-abdb-d918570eeb95",
   "metadata": {},
   "outputs": [],
   "source": [
    "def find_central_point(A, b, ss = 10**5, ts = 10**-5, te = 10**5):\n",
    "    A = A.astype(float)\n",
    "    b = b.astype(float)\n",
    "    n = A.shape[1]\n",
    "    d = A.shape[0]\n",
    "    y = np.vstack((np.zeros(n)[..., None], [ss]))\n",
    "    c = np.hstack((np.zeros(n), [1]))[..., None]\n",
    "\n",
    "    for i in range(d):\n",
    "        norm = np.linalg.norm(A[i])\n",
    "        A[i] = A[i]/norm\n",
    "        b[i] = b[i]/norm\n",
    "    \n",
    "    A_tilde = np.hstack((A, np.ones(d)[..., None] * -1))\n",
    "    t = ts\n",
    "    \n",
    "    prev_grad = np.zeros(n + 1)\n",
    "    \n",
    "    while(t < te):\n",
    "        print(A_tilde)\n",
    "        print(y)\n",
    "        break\n",
    "        slack = 1/(b - np.matmul(A_tilde,y))\n",
    "        grad = c + np.matmul(A_tilde.T, slack)/t\n",
    "\n",
    "        slack_mat = np.diag(np.squeeze(np.asarray(slack.T)))\n",
    "        hessian = np.matmul(slack_mat, slack_mat)\n",
    "        hessian = np.matmul(np.matmul(A_tilde.T, hessian), A_tilde)/t\n",
    "        inv_hessian = np.linalg.inv(hessian)\n",
    "        \n",
    "        new_y = y - 0.5 * np.matmul(inv_hessian, grad)\n",
    "        \n",
    "        if np.linalg.norm(prev_grad - grad)/(np.linalg.norm(prev_grad) + 10**(-8)) < 0.01:\n",
    "            t *= 2\n",
    "        \n",
    "        prev_grad = grad\n",
    "        y = new_y\n",
    "        \n",
    "    return y[:n]"
   ]
  },
  {
   "cell_type": "code",
   "execution_count": 12,
   "id": "113631d9-f119-47f3-948e-11d90a133afd",
   "metadata": {},
   "outputs": [
    {
     "name": "stdout",
     "output_type": "stream",
     "text": [
      "[[ 1.  0. -1.]\n",
      " [-1.  0. -1.]\n",
      " [ 0.  1. -1.]\n",
      " [ 0. -1. -1.]]\n",
      "[[     0.]\n",
      " [     0.]\n",
      " [100000.]]\n"
     ]
    },
    {
     "data": {
      "text/plain": [
       "array([[0.],\n",
       "       [0.]])"
      ]
     },
     "execution_count": 12,
     "metadata": {},
     "output_type": "execute_result"
    }
   ],
   "source": [
    "find_central_point(A,b)"
   ]
  },
  {
   "cell_type": "code",
   "execution_count": 8,
   "id": "6c1f61e0-4930-4a26-9595-33175ee8661e",
   "metadata": {},
   "outputs": [],
   "source": [
    "def find_central_point(A, b, ss = 10**5, ts = 10**-5, te = 10**5):\n",
    "    A = A.astype(float)\n",
    "    b = b.astype(float)\n",
    "    n = A.shape[1]\n",
    "    d = A.shape[0]\n",
    "    y = np.vstack((np.zeros(n)[..., None], [ss]))\n",
    "    c = np.hstack((np.zeros(n), [1]))[..., None]\n",
    "    print(c)\n",
    "    print(y)\n",
    "\n",
    "    for i in range(d):\n",
    "        norm = np.linalg.norm(A[i])\n",
    "        A[i] = A[i]/norm\n",
    "        b[i] = b[i]/norm\n",
    "    \n",
    "    A_tilde = np.hstack((A, np.ones(d)[..., None] * -1))\n",
    "    t = ts\n",
    "    \n",
    "    prev_grad = np.zeros(n + 1)\n",
    "    \n",
    "    while(t < te):\n",
    "        \n",
    "        slack = 1/(b - np.matmul(A_tilde,y))\n",
    "        grad = c + np.matmul(A_tilde.T, slack)/t\n",
    "\n",
    "        slack_mat = np.diag(np.squeeze(np.asarray(slack.T)))\n",
    "        hessian = np.matmul(slack_mat, slack_mat)\n",
    "        hessian = np.matmul(np.matmul(A_tilde.T, hessian), A_tilde)/t\n",
    "        inv_hessian = np.linalg.inv(hessian)\n",
    "        \n",
    "        new_y = y - 0.5 * np.matmul(inv_hessian, grad)\n",
    "        \n",
    "        if np.linalg.norm(prev_grad - grad)/(np.linalg.norm(prev_grad) + 10**(-8)) < 0.01:\n",
    "            t *= 2\n",
    "        \n",
    "        prev_grad = grad\n",
    "        y = new_y\n",
    "        \n",
    "    return y[:n]"
   ]
  },
  {
   "cell_type": "code",
   "execution_count": null,
   "id": "99e325b0-c6fe-4060-b434-c376aa143ed1",
   "metadata": {},
   "outputs": [],
   "source": []
  }
 ],
 "metadata": {
  "kernelspec": {
   "display_name": "Python 3 (ipykernel)",
   "language": "python",
   "name": "python3"
  },
  "language_info": {
   "codemirror_mode": {
    "name": "ipython",
    "version": 3
   },
   "file_extension": ".py",
   "mimetype": "text/x-python",
   "name": "python",
   "nbconvert_exporter": "python",
   "pygments_lexer": "ipython3",
   "version": "3.9.7"
  }
 },
 "nbformat": 4,
 "nbformat_minor": 5
}
