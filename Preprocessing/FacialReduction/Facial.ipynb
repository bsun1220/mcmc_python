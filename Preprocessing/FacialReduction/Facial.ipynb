{
 "cells": [
  {
   "cell_type": "code",
   "execution_count": 35,
   "id": "b46699c2-0e9e-4bcd-a75b-5ccffe5bfee6",
   "metadata": {},
   "outputs": [],
   "source": [
    "import numpy as np\n",
    "import matplotlib.pyplot as plt\n",
    "from scipy.linalg import sqrtm\n",
    "from scipy.optimize import minimize, LinearConstraint, linprog\n",
    "import pandas as pd\n",
    "import sympy\n",
    "\n",
    "def equal_conversion(A, b):\n",
    "    A_tilde = np.hstack((A, np.identity(A.shape[0])))\n",
    "    return A_tilde, b\n",
    "\n",
    "def find_z(A, b, x_dim):\n",
    "    n = A.shape[0]\n",
    "    d = A.shape[1]\n",
    "    for i in range(x_dim, d):\n",
    "        A_ub = A.T * -1\n",
    "        b_ub = np.zeros(d)\n",
    "        \n",
    "        A_eq = np.vstack((A.T[0:x_dim], A.T[i], b.T))\n",
    "\n",
    "        b_eq = np.zeros(x_dim)\n",
    "        b_eq = np.append(b_eq, [1,0])\n",
    "        \n",
    "        c = np.ones(n)\n",
    "        \n",
    "        res = linprog(\n",
    "            c = c,\n",
    "            A_ub = A_ub,\n",
    "            b_ub = b_ub,\n",
    "            A_eq = A_eq,\n",
    "            b_eq = b_eq\n",
    "        )\n",
    "        if res[\"success\"]:\n",
    "            return np.matmul(A.T, res.x)\n",
    "        \n",
    "    return False \n",
    "\n",
    "def facial_reduction(z):\n",
    "    d = z.shape[0]\n",
    "    z = np.round(z, 3)\n",
    "    indices = (z <= 0).nonzero()[0]\n",
    "    matrix = None\n",
    "    \n",
    "    for val in indices:\n",
    "        arr = np.eye(1, d, val)\n",
    "        matrix = arr if matrix is None else np.vstack((matrix, arr))\n",
    "    \n",
    "    return matrix.T\n",
    "\n",
    "def entire_facial_reduction_step(A, b, x_dim):\n",
    "    z = find_z(A, b, x_dim)\n",
    "    if isinstance(z, bool):\n",
    "        return (A, b)\n",
    "    \n",
    "    V = facial_reduction(z)\n",
    "\n",
    "    AV = np.matmul(A, V)\n",
    "\n",
    "\n",
    "    _, ind = sympy.Matrix(AV).T.rref()\n",
    "    print(_)\n",
    "    print(ind)\n",
    "    proj = None\n",
    "    for i in ind:\n",
    "        arr = np.eye(1, A.shape[0], i)\n",
    "        proj = arr if proj is None else np.vstack((proj, arr))\n",
    "    newA = np.matmul(proj, AV)\n",
    "    newB = np.matmul(proj, b)\n",
    "\n",
    "    return entire_facial_reduction_step(newA, newB, x_dim)\n",
    "\n",
    "def make_full_rank(mat):\n",
    "    Q, R = np.linalg.qr(mat.T, mode = \"complete\")\n",
    "    dim_diff = Q.shape[0] - R.shape[1]\n",
    "    if dim_diff == 0:\n",
    "        return mat\n",
    "    \n",
    "    new_mat = np.identity(Q.shape[0])[:,  Q.shape[0] - dim_diff:]\n",
    "    \n",
    "    R = np.hstack((R, new_mat))\n",
    "    return np.matmul(Q, R).T\n",
    "\n",
    "def reduce_sampling(M, b, delta_dim):\n",
    "    M_inv = np.linalg.inv(M)\n",
    "    row = M_inv.shape[0] - delta_dim\n",
    "    gamma = M_inv.shape[0] - b.shape[0]\n",
    "    C = np.matmul(M_inv[row:, :M_inv.shape[1] - gamma], b)\n",
    "    D = -1 * M_inv[row:, M_inv.shape[1] - gamma:]\n",
    "    return D, C\n",
    "\n",
    "def reduce_problem(A, b):\n",
    "    newA, newB = equal_conversion(A, b)\n",
    "    A_tilde, b_tilde = entire_facial_reduction_step(newA, newB, A[1].shape[0])\n",
    "    if A_tilde.shape == newA.shape and b.shape == b_tilde.shape:\n",
    "        return (A, b)\n",
    "\n",
    "    M = make_full_rank(A_tilde)\n",
    "    \n",
    "    reduced_A, reduced_b = reduce_sampling(M, b_tilde, A_tilde.shape[1] - A[1].shape[0])\n",
    "    return reduced_A, reduced_b, b_tilde, M"
   ]
  },
  {
   "cell_type": "code",
   "execution_count": 135,
   "id": "6c98954e-6eb9-486e-a17c-c25c85ae1be8",
   "metadata": {},
   "outputs": [],
   "source": [
    "A = np.array([[1, 0],[-1, 0],[0, 1],[0, -1]])\n",
    "b = np.array([[2],[2],[0],[0]])"
   ]
  },
  {
   "cell_type": "code",
   "execution_count": 128,
   "id": "45ed3243-a27f-4f22-a656-db644037ca66",
   "metadata": {},
   "outputs": [],
   "source": [
    "A = np.array([[1, 0, 0],[-1, 0, 0],[0, 1, 0],[0, -1, 0],[0, 0, 1],[0, 0, -1]])\n",
    "b = np.array([[1],[1],[1],[1],[0],[0]])"
   ]
  },
  {
   "cell_type": "code",
   "execution_count": 61,
   "id": "be980523-91c5-4cbe-a714-707591b14d2e",
   "metadata": {},
   "outputs": [],
   "source": [
    "A = np.array([[-1, 0], [0, -1], [1, 1], [-1, -1]])\n",
    "b = np.array([[0],[0],[1],[-1]])"
   ]
  },
  {
   "cell_type": "code",
   "execution_count": 35,
   "id": "0f061bea-d793-411e-98cf-3201fbfbda2f",
   "metadata": {},
   "outputs": [],
   "source": [
    "A = np.matrix([[-1, 0], [0, -1],[1, 1]])\n",
    "b = np.matrix([[0],[0],[1]])"
   ]
  },
  {
   "cell_type": "code",
   "execution_count": 37,
   "id": "e73b3f06-ae52-487a-8d74-d9a4a114853a",
   "metadata": {},
   "outputs": [],
   "source": [
    "A = np.matrix([[1, 0], [-1, 0],[0, 1], [0, -1]])\n",
    "b = np.matrix([[1],[0],[1],[0]])"
   ]
  },
  {
   "cell_type": "code",
   "execution_count": 12,
   "id": "7b992306-5e8e-4d03-a354-140f6f1ba2ef",
   "metadata": {},
   "outputs": [],
   "source": [
    "A = np.array([[1, 0, 0],[-1, 0, 0],[0, 1, 0],[0, -1, 0],[0, 0, 1],[0, 0, -1]])\n",
    "b = np.array([[1],[1],[0],[0],[0],[0]])"
   ]
  },
  {
   "cell_type": "code",
   "execution_count": 36,
   "id": "8e4db950-b5a2-4319-9655-d9c7700712ef",
   "metadata": {},
   "outputs": [
    {
     "name": "stdout",
     "output_type": "stream",
     "text": [
      "Matrix([[1, 0, 0, 0, 0, 0], [0, 1, 0, 0, 0, 0], [0, 0, 1, -1.00000000000000, 0, 0], [0, 0, 0, 0, 1, 0], [0, 0, 0, 0, 0, 1], [0, 0, 0, 0, 0, 0], [0, 0, 0, 0, 0, 0]])\n",
      "(0, 1, 2, 4, 5)\n",
      "Matrix([[1, 0, 0, 0, 0], [0, 1, 0, 0, 0], [0, 0, 1, 0, 0], [0, 0, 0, 1, -1.00000000000000], [0, 0, 0, 0, 0]])\n",
      "(0, 1, 2, 3)\n"
     ]
    }
   ],
   "source": [
    "reduced_A, reduced_B, pB, M = reduce_problem(A, b)"
   ]
  },
  {
   "cell_type": "code",
   "execution_count": 7,
   "id": "13003a1a-2331-4f19-9dff-f4d02ee81155",
   "metadata": {},
   "outputs": [
    {
     "data": {
      "text/plain": [
       "array([[ 0.57735027],\n",
       "       [-0.57735027]])"
      ]
     },
     "execution_count": 7,
     "metadata": {},
     "output_type": "execute_result"
    }
   ],
   "source": [
    "reduced_A"
   ]
  },
  {
   "cell_type": "code",
   "execution_count": 8,
   "id": "b60746c2-332c-48b9-9e74-5b1fedde4dcf",
   "metadata": {},
   "outputs": [
    {
     "data": {
      "text/plain": [
       "array([[1.],\n",
       "       [1.]])"
      ]
     },
     "execution_count": 8,
     "metadata": {},
     "output_type": "execute_result"
    }
   ],
   "source": [
    "reduced_B"
   ]
  },
  {
   "cell_type": "code",
   "execution_count": 9,
   "id": "950f75da-a0a6-4129-9142-bfce9fac599a",
   "metadata": {},
   "outputs": [
    {
     "data": {
      "text/plain": [
       "array([[1.],\n",
       "       [1.],\n",
       "       [0.],\n",
       "       [0.]])"
      ]
     },
     "execution_count": 9,
     "metadata": {},
     "output_type": "execute_result"
    }
   ],
   "source": [
    "pB"
   ]
  },
  {
   "cell_type": "code",
   "execution_count": 10,
   "id": "47ce8469-4e6e-4ef9-a317-a7cab55f374f",
   "metadata": {},
   "outputs": [
    {
     "data": {
      "text/plain": [
       "array([[ 1.00000000e+00,  0.00000000e+00,  0.00000000e+00,\n",
       "         1.00000000e+00,  0.00000000e+00],\n",
       "       [-1.00000000e+00,  0.00000000e+00,  0.00000000e+00,\n",
       "         1.66533454e-16,  1.00000000e+00],\n",
       "       [-7.85046229e-17,  1.00000000e+00,  0.00000000e+00,\n",
       "         7.85046229e-17,  2.22044605e-16],\n",
       "       [-6.76653964e-17, -2.18846843e-16,  1.00000000e+00,\n",
       "         6.76653964e-17, -6.76653964e-17],\n",
       "       [ 5.77350269e-01, -1.11022302e-16, -1.11022302e-16,\n",
       "        -5.77350269e-01,  5.77350269e-01]])"
      ]
     },
     "execution_count": 10,
     "metadata": {},
     "output_type": "execute_result"
    }
   ],
   "source": [
    "M"
   ]
  },
  {
   "cell_type": "code",
   "execution_count": 134,
   "id": "e630317e-3384-46a8-b5e3-28cf4011e9ca",
   "metadata": {},
   "outputs": [],
   "source": [
    "mat = np.array([[1, -1, 0], [0, 0, 1], [0, 1, 0], [2, 2, 0]])"
   ]
  },
  {
   "cell_type": "code",
   "execution_count": 153,
   "id": "c4a99092-45ff-412e-9046-84919691f202",
   "metadata": {},
   "outputs": [],
   "source": [
    "def old_find_z(A, b, x_dim):\n",
    "    n = A.shape[0]\n",
    "    d = A.shape[1]\n",
    "    for i in range(x_dim, d):\n",
    "        i = 4\n",
    "        A_ub = A.T * -1\n",
    "        b_ub = np.zeros(d)\n",
    "        \n",
    "        A_eq = np.vstack((A.T[0:x_dim], A.T[i], b.T))\n",
    "        #A_eq = np.hstack((A_eq, np.expand_dims(np.zeros(A_eq.shape[0]), axis = 1)))\n",
    "        \n",
    "        \n",
    "        b_eq = np.zeros(x_dim)\n",
    "        b_eq = np.append(b_eq, [1,0])\n",
    "        \n",
    "        return A_eq, b_eq\n",
    "        \n",
    "        c = np.zeros(n + 1)\n",
    "        c[n] = 1\n",
    "        \n",
    "        res = linprog(\n",
    "            c = c,\n",
    "            A_ub = A_ub,\n",
    "            b_ub = b_ub,\n",
    "            A_eq = A_eq,\n",
    "            b_eq = b_eq\n",
    "        )\n",
    "        if res[\"success\"]:\n",
    "            return np.matmul(A.T, res.x)\n",
    "        \n",
    "    return False "
   ]
  },
  {
   "cell_type": "code",
   "execution_count": 154,
   "id": "156052c9-24d0-40d6-afae-de6cc7967aa0",
   "metadata": {},
   "outputs": [],
   "source": [
    "newA, newB = equal_conversion(A, b)\n",
    "A_eq, b_eq = old_find_z(newA, newB, 2)"
   ]
  },
  {
   "cell_type": "code",
   "execution_count": null,
   "id": "85482542-2b9b-4e2f-82fd-02b19cb9817d",
   "metadata": {},
   "outputs": [],
   "source": []
  }
 ],
 "metadata": {
  "kernelspec": {
   "display_name": "Python 3 (ipykernel)",
   "language": "python",
   "name": "python3"
  },
  "language_info": {
   "codemirror_mode": {
    "name": "ipython",
    "version": 3
   },
   "file_extension": ".py",
   "mimetype": "text/x-python",
   "name": "python",
   "nbconvert_exporter": "python",
   "pygments_lexer": "ipython3",
   "version": "3.9.7"
  }
 },
 "nbformat": 4,
 "nbformat_minor": 5
}
